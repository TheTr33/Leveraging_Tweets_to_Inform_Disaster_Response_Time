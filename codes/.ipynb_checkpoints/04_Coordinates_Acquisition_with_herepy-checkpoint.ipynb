{
 "cells": [
  {
   "cell_type": "markdown",
   "metadata": {},
   "source": [
    "# 04. Coordinates Acquisition with herepy   \n",
    "\n",
    "The HERE Geocoder API is a REST (Representational state transfer) API that allows us to obtain addresses from locations' coordinates or coordinates from addresses or landmarks in Python.  \n",
    "In this project, we submit an free form address to request the corresponding coordinates."
   ]
  },
  {
   "cell_type": "markdown",
   "metadata": {},
   "source": [
    "## Table of Contents\n",
    "- [Installation](#Installation)\n",
    "- [Loading Libraries & Data](#Loading-Libraries-&-Data)  \n",
    "- [Coordinates Acquisition](#Coordinates-Acquisition)\n",
    "- [Source](#Source) "
   ]
  },
  {
   "cell_type": "markdown",
   "metadata": {},
   "source": [
    "## Installation  \n",
    "\n"
   ]
  },
  {
   "cell_type": "markdown",
   "metadata": {},
   "source": [
    "We can install herepy (library that uses HERE API in python environment) using:\n",
    "```Terminal\n",
    "$ pip install herepy\n",
    "```\n",
    "Getting the code at https://github.com/abdullahselek/HerePy   \n",
    "```Terminal\n",
    "$ git clone git://github.com/abdullahselek/HerePy.git\n",
    "$ cd HerePy\n",
    "\n",
    "# To install dependencies, run either:\n",
    "$ pip install -Ur requirements.testing.txt\n",
    "$ pip install -Ur requirements.txt\n",
    "\n",
    "# To install the minimal dependencies for production use (i.e., what is installed with ``pip install herepy``) run:\n",
    "$ pip install -Ur requirements.txt\n",
    "```"
   ]
  },
  {
   "cell_type": "markdown",
   "metadata": {},
   "source": [
    "## Loading Libraries & Data"
   ]
  },
  {
   "cell_type": "code",
   "execution_count": 1,
   "metadata": {},
   "outputs": [],
   "source": [
    "# Import libraries: \n",
    "import time\n",
    "import requests\n",
    "import pandas as pd\n",
    "import datetime as dt\n",
    "import numpy as np\n",
    "\n",
    "import herepy\n",
    "import matplotlib.pyplot as plt"
   ]
  },
  {
   "cell_type": "code",
   "execution_count": 2,
   "metadata": {},
   "outputs": [],
   "source": [
    "geocoderApi = herepy.GeocoderApi('INSERT API KEY HERE')"
   ]
  },
  {
   "cell_type": "code",
   "execution_count": 3,
   "metadata": {},
   "outputs": [
    {
     "data": {
      "text/html": [
       "<div>\n",
       "<style scoped>\n",
       "    .dataframe tbody tr th:only-of-type {\n",
       "        vertical-align: middle;\n",
       "    }\n",
       "\n",
       "    .dataframe tbody tr th {\n",
       "        vertical-align: top;\n",
       "    }\n",
       "\n",
       "    .dataframe thead th {\n",
       "        text-align: right;\n",
       "    }\n",
       "</style>\n",
       "<table border=\"1\" class=\"dataframe\">\n",
       "  <thead>\n",
       "    <tr style=\"text-align: right;\">\n",
       "      <th></th>\n",
       "      <th>text</th>\n",
       "      <th>address</th>\n",
       "    </tr>\n",
       "  </thead>\n",
       "  <tbody>\n",
       "    <tr>\n",
       "      <th>0</th>\n",
       "      <td>Cleared: Traffic congestion in Bay on US-231 s...</td>\n",
       "      <td>US-231 south    Bay  FL</td>\n",
       "    </tr>\n",
       "    <tr>\n",
       "      <th>1</th>\n",
       "      <td>Cleared: Object on roadway in Okaloosa on I-10...</td>\n",
       "      <td>Interstate 10 west Mile Marker 51 Okaloosa  FL</td>\n",
       "    </tr>\n",
       "    <tr>\n",
       "      <th>2</th>\n",
       "      <td>New: Object on roadway in Okaloosa on I-10 wes...</td>\n",
       "      <td>Interstate 10 west Mile Marker 51 Okaloosa  FL</td>\n",
       "    </tr>\n",
       "    <tr>\n",
       "      <th>3</th>\n",
       "      <td>Updated: Traffic congestion in Bay on US-231 s...</td>\n",
       "      <td>US-231 south    Bay  FL</td>\n",
       "    </tr>\n",
       "    <tr>\n",
       "      <th>4</th>\n",
       "      <td>Updated: Traffic congestion in Bay on US-231 s...</td>\n",
       "      <td>US-231 south    Bay  FL</td>\n",
       "    </tr>\n",
       "  </tbody>\n",
       "</table>\n",
       "</div>"
      ],
      "text/plain": [
       "                                                text  \\\n",
       "0  Cleared: Traffic congestion in Bay on US-231 s...   \n",
       "1  Cleared: Object on roadway in Okaloosa on I-10...   \n",
       "2  New: Object on roadway in Okaloosa on I-10 wes...   \n",
       "3  Updated: Traffic congestion in Bay on US-231 s...   \n",
       "4  Updated: Traffic congestion in Bay on US-231 s...   \n",
       "\n",
       "                                            address  \n",
       "0                           US-231 south    Bay  FL  \n",
       "1    Interstate 10 west Mile Marker 51 Okaloosa  FL  \n",
       "2    Interstate 10 west Mile Marker 51 Okaloosa  FL  \n",
       "3                           US-231 south    Bay  FL  \n",
       "4                           US-231 south    Bay  FL  "
      ]
     },
     "execution_count": 3,
     "metadata": {},
     "output_type": "execute_result"
    }
   ],
   "source": [
    "closures = pd.read_csv('../datasets/account_tweets.csv')\n",
    "address = pd.read_csv('../datasets/address.csv')\n",
    "address.head()"
   ]
  },
  {
   "cell_type": "markdown",
   "metadata": {},
   "source": [
    "## Coordinates Acquisition"
   ]
  },
  {
   "cell_type": "markdown",
   "metadata": {},
   "source": [
    "#### HERE Geocoder API  \n",
    "Is the wrapper for HERE Geocoder API, to use this wrapper and all other wrappers you need an API key which you can get from HERE Developer Portal.\n",
    "\n",
    "Initiation of GeocoderApi  \n",
    "\n",
    "```Python\n",
    "import herepy\n",
    "\n",
    "geocoderApi = herepy.GeocoderApi('api_key')\n",
    "```\n",
    "\n",
    "Geocoding given search text\n",
    "```Python\n",
    "response = geocoderApi.free_form('200 S Mathilda Sunnyvale CA')\n",
    "```\n",
    "Geocoding given search text with in given boundingbox   \n",
    "```Python\n",
    "response = geocoderApi.address_with_boundingbox('200 S Mathilda Sunnyvale CA',\n",
    "                                                [42.3952,-71.1056],\n",
    "                                                [42.3312,-71.0228])\n",
    "```\n",
    "Geocoding with given address details\n",
    "```Python\n",
    "response = geocoderApi.address_with_details(34, 'Barbaros', 'Istanbul', 'Turkey')\n",
    "```\n",
    "\n",
    "Geocoding with given street and city   \n",
    "```Python\n",
    "response = geocoderApi.street_intersection('Barbaros', 'Istanbul')\n",
    "```"
   ]
  },
  {
   "cell_type": "markdown",
   "metadata": {},
   "source": [
    "Define a function to get coordinates from each location:"
   ]
  },
  {
   "cell_type": "code",
   "execution_count": 4,
   "metadata": {},
   "outputs": [],
   "source": [
    "def geocoder(address):\n",
    "    response = geocoderApi.free_form(address)\n",
    "    return response.Response['View'][0]['Result'][0]['Location']['DisplayPosition']"
   ]
  },
  {
   "cell_type": "markdown",
   "metadata": {},
   "source": [
    "Using `try` `except` to avoid errors:"
   ]
  },
  {
   "cell_type": "code",
   "execution_count": 5,
   "metadata": {},
   "outputs": [],
   "source": [
    "# Create a new coordinate column:\n",
    "address['coor'] = ''\n",
    "for i in list(address.index):\n",
    "    try: \n",
    "        address['coor'][i] = geocoder(address['address'][i])\n",
    "    except: \n",
    "        pass"
   ]
  },
  {
   "cell_type": "code",
   "execution_count": 6,
   "metadata": {},
   "outputs": [
    {
     "data": {
      "text/html": [
       "<div>\n",
       "<style scoped>\n",
       "    .dataframe tbody tr th:only-of-type {\n",
       "        vertical-align: middle;\n",
       "    }\n",
       "\n",
       "    .dataframe tbody tr th {\n",
       "        vertical-align: top;\n",
       "    }\n",
       "\n",
       "    .dataframe thead th {\n",
       "        text-align: right;\n",
       "    }\n",
       "</style>\n",
       "<table border=\"1\" class=\"dataframe\">\n",
       "  <thead>\n",
       "    <tr style=\"text-align: right;\">\n",
       "      <th></th>\n",
       "      <th>text</th>\n",
       "      <th>address</th>\n",
       "      <th>coor</th>\n",
       "    </tr>\n",
       "  </thead>\n",
       "  <tbody>\n",
       "    <tr>\n",
       "      <th>0</th>\n",
       "      <td>Cleared: Traffic congestion in Bay on US-231 s...</td>\n",
       "      <td>US-231 south    Bay  FL</td>\n",
       "      <td>{'Latitude': 30.16516, 'Longitude': -85.66028}</td>\n",
       "    </tr>\n",
       "    <tr>\n",
       "      <th>1</th>\n",
       "      <td>Cleared: Object on roadway in Okaloosa on I-10...</td>\n",
       "      <td>Interstate 10 west Mile Marker 51 Okaloosa  FL</td>\n",
       "      <td>{'Latitude': 30.41195, 'Longitude': -86.72963}</td>\n",
       "    </tr>\n",
       "    <tr>\n",
       "      <th>2</th>\n",
       "      <td>New: Object on roadway in Okaloosa on I-10 wes...</td>\n",
       "      <td>Interstate 10 west Mile Marker 51 Okaloosa  FL</td>\n",
       "      <td>{'Latitude': 30.41195, 'Longitude': -86.72963}</td>\n",
       "    </tr>\n",
       "    <tr>\n",
       "      <th>3</th>\n",
       "      <td>Updated: Traffic congestion in Bay on US-231 s...</td>\n",
       "      <td>US-231 south    Bay  FL</td>\n",
       "      <td>{'Latitude': 30.16516, 'Longitude': -85.66028}</td>\n",
       "    </tr>\n",
       "    <tr>\n",
       "      <th>4</th>\n",
       "      <td>Updated: Traffic congestion in Bay on US-231 s...</td>\n",
       "      <td>US-231 south    Bay  FL</td>\n",
       "      <td>{'Latitude': 30.16516, 'Longitude': -85.66028}</td>\n",
       "    </tr>\n",
       "  </tbody>\n",
       "</table>\n",
       "</div>"
      ],
      "text/plain": [
       "                                                text  \\\n",
       "0  Cleared: Traffic congestion in Bay on US-231 s...   \n",
       "1  Cleared: Object on roadway in Okaloosa on I-10...   \n",
       "2  New: Object on roadway in Okaloosa on I-10 wes...   \n",
       "3  Updated: Traffic congestion in Bay on US-231 s...   \n",
       "4  Updated: Traffic congestion in Bay on US-231 s...   \n",
       "\n",
       "                                            address  \\\n",
       "0                           US-231 south    Bay  FL   \n",
       "1    Interstate 10 west Mile Marker 51 Okaloosa  FL   \n",
       "2    Interstate 10 west Mile Marker 51 Okaloosa  FL   \n",
       "3                           US-231 south    Bay  FL   \n",
       "4                           US-231 south    Bay  FL   \n",
       "\n",
       "                                             coor  \n",
       "0  {'Latitude': 30.16516, 'Longitude': -85.66028}  \n",
       "1  {'Latitude': 30.41195, 'Longitude': -86.72963}  \n",
       "2  {'Latitude': 30.41195, 'Longitude': -86.72963}  \n",
       "3  {'Latitude': 30.16516, 'Longitude': -85.66028}  \n",
       "4  {'Latitude': 30.16516, 'Longitude': -85.66028}  "
      ]
     },
     "execution_count": 6,
     "metadata": {},
     "output_type": "execute_result"
    }
   ],
   "source": [
    "# It has coordinates as form {'Latitude':xxx, 'Longitude':xxx}:\n",
    "address.head()"
   ]
  },
  {
   "cell_type": "code",
   "execution_count": 7,
   "metadata": {},
   "outputs": [
    {
     "data": {
      "text/plain": [
       "(300, 3)"
      ]
     },
     "execution_count": 7,
     "metadata": {},
     "output_type": "execute_result"
    }
   ],
   "source": [
    "address.shape"
   ]
  },
  {
   "cell_type": "code",
   "execution_count": 8,
   "metadata": {},
   "outputs": [
    {
     "data": {
      "text/plain": [
       "(223, 3)"
      ]
     },
     "execution_count": 8,
     "metadata": {},
     "output_type": "execute_result"
    }
   ],
   "source": [
    "# Drop all 'pass' coordinates:\n",
    "address.drop(address.loc[address['coor']==''].index, inplace = True)\n",
    "address.shape"
   ]
  },
  {
   "cell_type": "code",
   "execution_count": 9,
   "metadata": {},
   "outputs": [],
   "source": [
    "# Create two new columns for 'latitude' and 'longitude':\n",
    "address['latitude'] = ''\n",
    "address['longitude'] = ''\n",
    "for i in list(address.index):\n",
    "    address['latitude'][i] = address['coor'][i]['Latitude']\n",
    "    address['longitude'][i] = address['coor'][i]['Longitude']"
   ]
  },
  {
   "cell_type": "code",
   "execution_count": 10,
   "metadata": {},
   "outputs": [],
   "source": [
    "# Keep only 'latitude' and 'longitude' columns\n",
    "address.drop(columns=['coor'], inplace = True)"
   ]
  },
  {
   "cell_type": "code",
   "execution_count": 11,
   "metadata": {},
   "outputs": [],
   "source": [
    "# Get date column from previous data frame:\n",
    "address['date'] = ''\n",
    "for i in list(address.index):\n",
    "    address['date'][i] = closures['date'][i]"
   ]
  },
  {
   "cell_type": "code",
   "execution_count": 12,
   "metadata": {},
   "outputs": [
    {
     "data": {
      "text/html": [
       "<div>\n",
       "<style scoped>\n",
       "    .dataframe tbody tr th:only-of-type {\n",
       "        vertical-align: middle;\n",
       "    }\n",
       "\n",
       "    .dataframe tbody tr th {\n",
       "        vertical-align: top;\n",
       "    }\n",
       "\n",
       "    .dataframe thead th {\n",
       "        text-align: right;\n",
       "    }\n",
       "</style>\n",
       "<table border=\"1\" class=\"dataframe\">\n",
       "  <thead>\n",
       "    <tr style=\"text-align: right;\">\n",
       "      <th></th>\n",
       "      <th>text</th>\n",
       "      <th>address</th>\n",
       "      <th>latitude</th>\n",
       "      <th>longitude</th>\n",
       "      <th>date</th>\n",
       "    </tr>\n",
       "  </thead>\n",
       "  <tbody>\n",
       "    <tr>\n",
       "      <th>0</th>\n",
       "      <td>Cleared: Traffic congestion in Bay on US-231 s...</td>\n",
       "      <td>US-231 south    Bay  FL</td>\n",
       "      <td>30.1652</td>\n",
       "      <td>-85.6603</td>\n",
       "      <td>2018-10-14 22:29:04+00:00</td>\n",
       "    </tr>\n",
       "    <tr>\n",
       "      <th>1</th>\n",
       "      <td>Cleared: Object on roadway in Okaloosa on I-10...</td>\n",
       "      <td>Interstate 10 west Mile Marker 51 Okaloosa  FL</td>\n",
       "      <td>30.412</td>\n",
       "      <td>-86.7296</td>\n",
       "      <td>2018-10-14 22:07:31+00:00</td>\n",
       "    </tr>\n",
       "    <tr>\n",
       "      <th>2</th>\n",
       "      <td>New: Object on roadway in Okaloosa on I-10 wes...</td>\n",
       "      <td>Interstate 10 west Mile Marker 51 Okaloosa  FL</td>\n",
       "      <td>30.412</td>\n",
       "      <td>-86.7296</td>\n",
       "      <td>2018-10-14 21:07:14+00:00</td>\n",
       "    </tr>\n",
       "    <tr>\n",
       "      <th>3</th>\n",
       "      <td>Updated: Traffic congestion in Bay on US-231 s...</td>\n",
       "      <td>US-231 south    Bay  FL</td>\n",
       "      <td>30.1652</td>\n",
       "      <td>-85.6603</td>\n",
       "      <td>2018-10-14 20:47:24+00:00</td>\n",
       "    </tr>\n",
       "    <tr>\n",
       "      <th>4</th>\n",
       "      <td>Updated: Traffic congestion in Bay on US-231 s...</td>\n",
       "      <td>US-231 south    Bay  FL</td>\n",
       "      <td>30.1652</td>\n",
       "      <td>-85.6603</td>\n",
       "      <td>2018-10-14 20:46:31+00:00</td>\n",
       "    </tr>\n",
       "  </tbody>\n",
       "</table>\n",
       "</div>"
      ],
      "text/plain": [
       "                                                text  \\\n",
       "0  Cleared: Traffic congestion in Bay on US-231 s...   \n",
       "1  Cleared: Object on roadway in Okaloosa on I-10...   \n",
       "2  New: Object on roadway in Okaloosa on I-10 wes...   \n",
       "3  Updated: Traffic congestion in Bay on US-231 s...   \n",
       "4  Updated: Traffic congestion in Bay on US-231 s...   \n",
       "\n",
       "                                            address latitude longitude  \\\n",
       "0                           US-231 south    Bay  FL  30.1652  -85.6603   \n",
       "1    Interstate 10 west Mile Marker 51 Okaloosa  FL   30.412  -86.7296   \n",
       "2    Interstate 10 west Mile Marker 51 Okaloosa  FL   30.412  -86.7296   \n",
       "3                           US-231 south    Bay  FL  30.1652  -85.6603   \n",
       "4                           US-231 south    Bay  FL  30.1652  -85.6603   \n",
       "\n",
       "                        date  \n",
       "0  2018-10-14 22:29:04+00:00  \n",
       "1  2018-10-14 22:07:31+00:00  \n",
       "2  2018-10-14 21:07:14+00:00  \n",
       "3  2018-10-14 20:47:24+00:00  \n",
       "4  2018-10-14 20:46:31+00:00  "
      ]
     },
     "execution_count": 12,
     "metadata": {},
     "output_type": "execute_result"
    }
   ],
   "source": [
    "address.head()"
   ]
  },
  {
   "cell_type": "code",
   "execution_count": 13,
   "metadata": {},
   "outputs": [],
   "source": [
    "# Export data:\n",
    "address.to_csv('../datasets/text_coor_date.csv', index=False)"
   ]
  },
  {
   "cell_type": "markdown",
   "metadata": {},
   "source": [
    "## Source  \n",
    "\n",
    "- [HERE.com](https://www.here.com/)\n",
    "- [HerePy GitHub](https://github.com/abdullahselek/HerePy)  "
   ]
  }
 ],
 "metadata": {
  "kernelspec": {
   "display_name": "Python 3",
   "language": "python",
   "name": "python3"
  },
  "language_info": {
   "codemirror_mode": {
    "name": "ipython",
    "version": 3
   },
   "file_extension": ".py",
   "mimetype": "text/x-python",
   "name": "python",
   "nbconvert_exporter": "python",
   "pygments_lexer": "ipython3",
   "version": "3.7.4"
  }
 },
 "nbformat": 4,
 "nbformat_minor": 2
}
