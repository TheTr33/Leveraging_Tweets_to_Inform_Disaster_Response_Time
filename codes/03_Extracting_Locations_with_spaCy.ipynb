{
 "cells": [
  {
   "cell_type": "markdown",
   "metadata": {},
   "source": [
    "# 03. Extracting Locations with spaCy   \n",
    "\n",
    "spaCy is an open-source software library for advanced natural language processing, written in the Python and Cython. \n",
    "spaCy’s models can be installed as Python packages.  "
   ]
  },
  {
   "cell_type": "markdown",
   "metadata": {},
   "source": [
    "## Table of Contents\n",
    "- [Installation](#Installation)\n",
    "- [Loading Libraries & Data](#Loading-Libraries-&-Data)  \n",
    "- [Preprocessing](#Preprocessing)\n",
    "- [Training spaCy](#Training-spaCy)\n",
    "- [Location Extracting](#Location-Extracting)\n",
    "- [Source](#Source) "
   ]
  },
  {
   "cell_type": "markdown",
   "metadata": {},
   "source": [
    "## Installation  \n",
    "  \n",
    "In your Terminal, at the current environment:\n",
    "```Terminal\n",
    "# Download best-matching version of specific model for your spaCy installation   \n",
    "$ python -m spacy download en_core_web_sm  \n",
    "\n",
    "# Out-of-the-box: download best-matching default model and create shortcut link  \n",
    "$ python -m spacy download en  \n",
    "\n",
    "# Download exact model version (doesn't create shortcut link)   \n",
    "$ python -m spacy download en_core_web_sm-2.2.0 --direct    \n",
    "\n",
    "$pip install spacy   \n",
    "\n",
    "```\n",
    "\n",
    "More details, please check [here](https://spacy.io/usage/models)"
   ]
  },
  {
   "cell_type": "markdown",
   "metadata": {},
   "source": [
    "## Loading Libraries & Data"
   ]
  },
  {
   "cell_type": "code",
   "execution_count": 10,
   "metadata": {},
   "outputs": [],
   "source": [
    "# Import libraries: \n",
    "import pandas as pd\n",
    "import numpy as np\n",
    "import regex as re\n",
    "import re\n",
    "import spacy\n",
    "import random\n",
    "import string\n",
    "import datetime\n",
    "import os\n",
    "import matplotlib.pyplot as plt\n",
    "import warnings\n",
    "warnings.filterwarnings('ignore')\n",
    "\n",
    "from spacy import displacy\n",
    "\n",
    "%matplotlib inline"
   ]
  },
  {
   "cell_type": "code",
   "execution_count": 2,
   "metadata": {},
   "outputs": [],
   "source": [
    "# Read data:\n",
    "closures = pd.read_csv('../datasets/account_tweets.csv')"
   ]
  },
  {
   "cell_type": "markdown",
   "metadata": {},
   "source": [
    "## Preprocessing  \n",
    "Before applying spaCy, we need to preprocessing our closures data."
   ]
  },
  {
   "cell_type": "code",
   "execution_count": 3,
   "metadata": {},
   "outputs": [],
   "source": [
    "# Drop NaN values and unwanted columns;\n",
    "# Set 'id' as index:\n",
    "\n",
    "closures.drop(closures.loc[closures['text'].isnull()==True].index, inplace=True)\n",
    "closures.drop(columns=['hashtags', 'geo'], inplace=True)\n",
    "closures.set_index('id', inplace=True)"
   ]
  },
  {
   "cell_type": "code",
   "execution_count": 4,
   "metadata": {},
   "outputs": [],
   "source": [
    "abbreviation_dict = {'US ' : 'US-', \n",
    "                     'I-' : 'Interstate ',  \n",
    "                     'CR ' : 'Country Route ',\n",
    "                     'CR-' : 'Country Route ',\n",
    "                     'St ' : 'Street ',\n",
    "                     'St. ' : 'Street ',\n",
    "                     'Rt ' : 'Route ',\n",
    "                     'Rte ' : 'Route ',\n",
    "                     'Rd ' : 'Road ',\n",
    "                     'Rd. ' : 'Road ',\n",
    "                     'Twp' : 'Township ',\n",
    "                     'Rd. ' : 'Road ',\n",
    "                     'Av ': 'Avenue ',\n",
    "                     'Av. ': 'Avenue ',                \n",
    "                     'SB ' : 'southbound ',\n",
    "                     'WB ' : 'westbound ',\n",
    "                     'EB ' : 'easthbound ',\n",
    "                     'NB ' : 'northbound ',\n",
    "                     'Hwy ' : 'Highway ',\n",
    "                     'MM ':'Mile Marker ',\n",
    "                     'Pkwy ': 'Parkway ',\n",
    "                     'SR-': 'State Route '}"
   ]
  },
  {
   "cell_type": "code",
   "execution_count": 5,
   "metadata": {},
   "outputs": [],
   "source": [
    "# Replace all location related abbreviations:\n",
    "expanded_tweets = []\n",
    "for cleaned_tweet in closures['text']:\n",
    "    for key in abbreviation_dict:\n",
    "        cleaned_tweet = cleaned_tweet.replace(key, abbreviation_dict[key])\n",
    "    expanded_tweets.append(cleaned_tweet)\n",
    "closures['expanded_tweet'] = expanded_tweets"
   ]
  },
  {
   "cell_type": "code",
   "execution_count": 6,
   "metadata": {
    "scrolled": true
   },
   "outputs": [
    {
     "data": {
      "text/html": [
       "<div>\n",
       "<style scoped>\n",
       "    .dataframe tbody tr th:only-of-type {\n",
       "        vertical-align: middle;\n",
       "    }\n",
       "\n",
       "    .dataframe tbody tr th {\n",
       "        vertical-align: top;\n",
       "    }\n",
       "\n",
       "    .dataframe thead th {\n",
       "        text-align: right;\n",
       "    }\n",
       "</style>\n",
       "<table border=\"1\" class=\"dataframe\">\n",
       "  <thead>\n",
       "    <tr style=\"text-align: right;\">\n",
       "      <th></th>\n",
       "      <th>username</th>\n",
       "      <th>date</th>\n",
       "      <th>text</th>\n",
       "      <th>traffic</th>\n",
       "      <th>expanded_tweet</th>\n",
       "    </tr>\n",
       "    <tr>\n",
       "      <th>id</th>\n",
       "      <th></th>\n",
       "      <th></th>\n",
       "      <th></th>\n",
       "      <th></th>\n",
       "      <th></th>\n",
       "    </tr>\n",
       "  </thead>\n",
       "  <tbody>\n",
       "    <tr>\n",
       "      <th>1051600805755846657</th>\n",
       "      <td>WJHG_TV</td>\n",
       "      <td>2018-10-14 22:29:04+00:00</td>\n",
       "      <td>A lot of disaster assistance info... as well a...</td>\n",
       "      <td>1</td>\n",
       "      <td>A lot of disaster assistance info... as well a...</td>\n",
       "    </tr>\n",
       "    <tr>\n",
       "      <th>1051595380369096704</th>\n",
       "      <td>fl511_panhandl</td>\n",
       "      <td>2018-10-14 22:07:31+00:00</td>\n",
       "      <td>Cleared: Traffic congestion in Bay on US-231 s...</td>\n",
       "      <td>1</td>\n",
       "      <td>Cleared: Traffic congestion in Bay on US-231 s...</td>\n",
       "    </tr>\n",
       "    <tr>\n",
       "      <th>1051580211702243333</th>\n",
       "      <td>WJHG_TV</td>\n",
       "      <td>2018-10-14 21:07:14+00:00</td>\n",
       "      <td>Jessica and Ryan are about to handle our storm...</td>\n",
       "      <td>1</td>\n",
       "      <td>Jessica and Ryan are about to handle our storm...</td>\n",
       "    </tr>\n",
       "    <tr>\n",
       "      <th>1051575221671682054</th>\n",
       "      <td>fl511_panhandl</td>\n",
       "      <td>2018-10-14 20:47:24+00:00</td>\n",
       "      <td>Cleared: Object on roadway in Okaloosa on I-10...</td>\n",
       "      <td>1</td>\n",
       "      <td>Cleared: Object on roadway in Okaloosa on Inte...</td>\n",
       "    </tr>\n",
       "    <tr>\n",
       "      <th>1051574997964255232</th>\n",
       "      <td>fl511_panhandl</td>\n",
       "      <td>2018-10-14 20:46:31+00:00</td>\n",
       "      <td>New: Object on roadway in Okaloosa on I-10 wes...</td>\n",
       "      <td>1</td>\n",
       "      <td>New: Object on roadway in Okaloosa on Intersta...</td>\n",
       "    </tr>\n",
       "  </tbody>\n",
       "</table>\n",
       "</div>"
      ],
      "text/plain": [
       "                           username                       date  \\\n",
       "id                                                               \n",
       "1051600805755846657         WJHG_TV  2018-10-14 22:29:04+00:00   \n",
       "1051595380369096704  fl511_panhandl  2018-10-14 22:07:31+00:00   \n",
       "1051580211702243333         WJHG_TV  2018-10-14 21:07:14+00:00   \n",
       "1051575221671682054  fl511_panhandl  2018-10-14 20:47:24+00:00   \n",
       "1051574997964255232  fl511_panhandl  2018-10-14 20:46:31+00:00   \n",
       "\n",
       "                                                                  text  \\\n",
       "id                                                                       \n",
       "1051600805755846657  A lot of disaster assistance info... as well a...   \n",
       "1051595380369096704  Cleared: Traffic congestion in Bay on US-231 s...   \n",
       "1051580211702243333  Jessica and Ryan are about to handle our storm...   \n",
       "1051575221671682054  Cleared: Object on roadway in Okaloosa on I-10...   \n",
       "1051574997964255232  New: Object on roadway in Okaloosa on I-10 wes...   \n",
       "\n",
       "                     traffic  \\\n",
       "id                             \n",
       "1051600805755846657        1   \n",
       "1051595380369096704        1   \n",
       "1051580211702243333        1   \n",
       "1051575221671682054        1   \n",
       "1051574997964255232        1   \n",
       "\n",
       "                                                        expanded_tweet  \n",
       "id                                                                      \n",
       "1051600805755846657  A lot of disaster assistance info... as well a...  \n",
       "1051595380369096704  Cleared: Traffic congestion in Bay on US-231 s...  \n",
       "1051580211702243333  Jessica and Ryan are about to handle our storm...  \n",
       "1051575221671682054  Cleared: Object on roadway in Okaloosa on Inte...  \n",
       "1051574997964255232  New: Object on roadway in Okaloosa on Intersta...  "
      ]
     },
     "execution_count": 6,
     "metadata": {},
     "output_type": "execute_result"
    }
   ],
   "source": [
    "# Checking:\n",
    "closures.head()"
   ]
  },
  {
   "cell_type": "markdown",
   "metadata": {},
   "source": [
    "## Training spaCy"
   ]
  },
  {
   "cell_type": "markdown",
   "metadata": {},
   "source": [
    "The build-in spaCy model does not perform very well since in general there are only three location related entities. More entities, please check [HERE](https://spacy.io/api/annotation#named-entities)   \n",
    "\n",
    "#### Named Entity Recognition:  \n",
    "\n",
    "| TYPE | DESCRIPTION |  \n",
    "|---|---|  \n",
    "| `GPE` | Countries, cities, states. |  \n",
    "| `LOC` | Non-GPE locations, mountain ranges, bodies of water. |  \n",
    "| `FAC` | Buildings, airports, highways, bridges, etc. |"
   ]
  },
  {
   "cell_type": "markdown",
   "metadata": {},
   "source": [
    "Therefore, we are training our own spaCy model by providing many examples to meaningfully improve the system, since the default spaCy model performs poorly.  \n",
    "![](https://spacy.io/training-73950e71e6b59678754a87d6cf1481f9.svg)"
   ]
  },
  {
   "cell_type": "markdown",
   "metadata": {},
   "source": [
    "Code:   \n",
    "```Python\n",
    "test_col = closures['expanded_tweet'].sample(n = 40, replace = False)\n",
    "np.savetxt(r'spacy_annotator_test.txt', test_col, fmt='%s')\n",
    "```\n",
    "Then we run the `txt` file in [spaCy NER Annotator](https://manivannanmurugavel.github.io/annotating-tool/spacy-ner-annotator/) created by Manivannan Murugavel."
   ]
  },
  {
   "cell_type": "markdown",
   "metadata": {},
   "source": [
    "The below code converts our labels from a JSON format to a spaCy editable format code borrowed from Manivannan's posting."
   ]
  },
  {
   "cell_type": "code",
   "execution_count": 9,
   "metadata": {},
   "outputs": [
    {
     "name": "stdout",
     "output_type": "stream",
     "text": [
      "../datasets/road_entity_labels.json../datasets/road_entity_labels.json\n",
      "../datasets/road_entity_labels.json\n"
     ]
    }
   ],
   "source": [
    "import json\n",
    "\n",
    "filename = input(\"../datasets/road_entity_labels.json\")\n",
    "print(filename)\n",
    "\n",
    "\n",
    "with open(filename) as train_data:\n",
    "    train = json.load(train_data)\n",
    "\n",
    "TRAIN_DATA = []\n",
    "for data in train:\n",
    "    ents = [tuple(entity) for entity in data['entities']]\n",
    "    TRAIN_DATA.append((data['content'],{'entities':ents}))\n",
    "\n",
    "\n",
    "with open('{}'.format(filename.replace('json','txt')),'w') as write:\n",
    "    write.write(str(TRAIN_DATA))"
   ]
  },
  {
   "cell_type": "markdown",
   "metadata": {},
   "source": [
    "## Location Extracting  \n",
    "\n",
    "We are going to use `TRAIN_DATA` from our trained spaCy model."
   ]
  },
  {
   "cell_type": "code",
   "execution_count": 12,
   "metadata": {},
   "outputs": [],
   "source": [
    "TRAIN_DATA = [('Updated: Planned construction in Washington on Interstate 10 east at Mile Marker 117, right lane blocked. Last updated at 12:58:47AM. http://fl511.com/EventDetails/District%203-CHP/63064', {'entities': [(33, 43, 'TWN'), (47, 65, 'INS'), (69, 84, 'MM'), (86, 96, 'LN')]}), ('Cleared: Object on roadway in Gadsden on Interstate 10 west at Mile Marker 168, all lanes blocked. Last updated at 03:09:38PM.', {'entities': [(30, 37, 'TWN'), (41, 59, 'INS'), (63, 78, 'MM'), (80, 89, 'LN')]}), ('New: Disabled vehicle in Santa Rosa on Pensacola Bay Bridge north at Pensacola Bay Bridge, right lane blocked....http://fl511.com/EventDetails/District%203-CHP/63918', {'entities': [(39, 65, 'BRDG'), (91, 101, 'LN'), (25, 35, 'TWN')]}), ('ROAD CLOSURE: State Road 30A from West Rutherford Street south to Cape San Blas Road is closed and County Road 30A from Cape San Blas Road to the Franklin County Line is closed.', {'entities': [(13, 28, 'RD'), (34, 62, 'ST')]}), ('Update to Motor Vehicle Accident (MVA) on 23rd Street at 23rd Street Plaza. The roadway obstructions have been removed. Emergency Response personnel are on scene. Use caution.', {'entities': [(42, 53, 'ST')]}), ('Cleared: Crash in Walton on Interstate 10 east at Mile Marker 78, left lane blocked. Last updated at 10:17:49AM.', {'entities': [(18, 24, 'TWN'), (28, 46, 'INS'), (50, 64, 'MM'), (66, 75, 'LN')]}), ('Updated: Planned construction in Washington on Interstate 10 east at Mile Marker 117, right lane blocked. Last updated at 11:09:44PM. http://fl511.com/EventDetails/District%203-CHP/62845', {'entities': [(33, 43, 'TWN'), (47, 65, 'INS'), (69, 84, 'MM'), (86, 96, 'LN')]}), ('Cleared: Crash in Jackson on US-231 south beyond Interstate 10, right shoulder blocked. Last updated at 11:38:37AM.', {'entities': [(18, 25, 'TWN'), (29, 41, 'RD'), (49, 62, 'INS'), (64, 78, 'LN')]}), ('New: Planned construction in Holmes on Interstate 10 east at Mile Marker 115, right lane blocked. Last updated at 09:33:26PM. #fl511 http://fl511.com/EventDetails/District%203-CHP/62960', {'entities': [(29, 35, 'TWN'), (39, 57, 'INS'), (61, 76, 'MM'), (78, 88, 'LN')]}), ('New: Planned construction in Washington on Interstate 10 east at Mile Marker 117, right lane blocked. Last updated at 09:17:00PM....http://fl511.com/EventDetails/District%203-CHP/63063', {'entities': [(29, 39, 'TWN'), (43, 61, 'INS'), (65, 80, 'MM'), (82, 92, 'LN')]}), ('New: Object on roadway in Walton on Interstate 10 west at Mile Marker 74, right lane blocked. Last updated at 09:56:29AM. #fl511 http://fl511.com/EventDetails/District%203-CHP/62998', {'entities': [(26, 32, 'TWN'), (36, 54, 'INS'), (58, 72, 'MM'), (74, 84, 'LN')]}), ('Cleared: Disabled vehicle in Holmes on Interstate 10 west at Mile Marker 115, left lane blocked. Last updated at 07:21:36PM.', {'entities': [(29, 35, 'TWN'), (39, 57, 'INS'), (61, 76, 'MM'), (78, 87, 'LN')]})]"
   ]
  },
  {
   "cell_type": "code",
   "execution_count": 13,
   "metadata": {},
   "outputs": [
    {
     "name": "stdout",
     "output_type": "stream",
     "text": [
      "closure_labelsclosure_labels\n"
     ]
    }
   ],
   "source": [
    "def train_spacy(data,iterations):\n",
    "    TRAIN_DATA = data\n",
    "    nlp = spacy.blank('en')  # create blank Language class\n",
    "    \n",
    "    # create the built-in pipeline components and add them to the pipeline                         \n",
    "    if 'ner' not in nlp.pipe_names:\n",
    "        ner = nlp.create_pipe('ner') # nlp.create_pipe is for built-ins of spaCy\n",
    "        nlp.add_pipe(ner, last=True)\n",
    "       \n",
    "\n",
    "    # Add in labels\n",
    "    for _, annotations in TRAIN_DATA:\n",
    "         for ent in annotations.get('entities'):\n",
    "            ner.add_label(ent[2])\n",
    "\n",
    "    # Get names of other pipes to disable them during training\n",
    "    other_pipes = [pipe for pipe in nlp.pipe_names if pipe != 'ner']\n",
    "    with nlp.disable_pipes(*other_pipes): \n",
    "        optimizer = nlp.begin_training()\n",
    "        for itn in range(iterations):\n",
    "            random.shuffle(TRAIN_DATA)\n",
    "            losses = {}\n",
    "            for text, annotations in TRAIN_DATA:\n",
    "                nlp.update(\n",
    "                    [text],         # batch of texts\n",
    "                    [annotations],  # batch of annotations\n",
    "                    drop=0.2,       # dropout - make it harder to memorise data\n",
    "                    sgd=optimizer,  # callable to update weights\n",
    "                    losses=losses)\n",
    "    return nlp\n",
    "\n",
    "\n",
    "prdnlp = train_spacy(TRAIN_DATA, 20)\n",
    "\n",
    "# Save our trained Model\n",
    "modelfile = input(\"closure_labels\")\n",
    "prdnlp.to_disk(modelfile)\n",
    "# Note that after running this code, you have to reenter the model file name (closure_labels)"
   ]
  },
  {
   "cell_type": "code",
   "execution_count": 18,
   "metadata": {},
   "outputs": [],
   "source": [
    "# Load the labels:\n",
    "nlp = spacy.load('closure_labels')\n",
    "\n",
    "# Instantiate the location columns:\n",
    "closures['road'] = ''\n",
    "closures['streets'] = ''\n",
    "closures['interstate'] = ''\n",
    "closures['mile_marker'] = ''\n",
    "closures['bridge'] = ''\n",
    "closures['lanes'] = ''\n",
    "closures['town'] = ''\n",
    "\n",
    "# Extracting locations:\n",
    "for i in range(closures.shape[0]):\n",
    "    doc = nlp(closures['expanded_tweet'].iloc[i])\n",
    "    \n",
    "    roads = []\n",
    "    streets = []\n",
    "    interstates = []\n",
    "    mile_markers = []\n",
    "    bridges = []\n",
    "    lanes = []\n",
    "    towns = []\n",
    "    \n",
    "    for char in doc.ents:\n",
    "        if (char.label_ == 'ST'):\n",
    "            streets.append(char)\n",
    "            closures['streets'].iloc[i] = streets\n",
    "        if (char.label_ == 'RD'):\n",
    "            roads.append(char)\n",
    "            closures['road'].iloc[i] = roads\n",
    "        if (char.label_ == 'INS'):\n",
    "            interstates.append(char)\n",
    "            closures['interstate'].iloc[i] = interstates\n",
    "        if (char.label_ == 'MM'):\n",
    "            mile_markers.append(char)\n",
    "            closures['mile_marker'].iloc[i] = mile_markers\n",
    "        if (char.label_ == 'BRDG'):\n",
    "            bridges.append(char)\n",
    "            closures['bridge'].iloc[i] = bridges\n",
    "        if (char.label_ == 'LN'):\n",
    "            lanes.append(char)\n",
    "            closures['lanes'].iloc[i] = lanes\n",
    "        if (char.label_ == 'TWN'):\n",
    "            towns.append(char)\n",
    "            closures['town'].iloc[i] = towns\n",
    "\n",
    "# Cleaning each columns:            \n",
    "tok_cols = ['road', 'streets', 'interstate', 'mile_marker', 'bridge', 'lanes', 'town']\n",
    "for col in tok_cols:\n",
    "    clean_list = []\n",
    "    for token in closures[col]:\n",
    "        clean_list.append(str(token).replace('[', '').replace(']', ''))\n",
    "    closures[col] = clean_list\n",
    "    \n",
    "# Create 'address' column:\n",
    "closures['address'] = closures['road']+' '+closures['streets']+' '+closures['interstate']+' '+closures['mile_marker']+' '+closures['town']+' '+closures['bridge']+' FL'"
   ]
  },
  {
   "cell_type": "code",
   "execution_count": 19,
   "metadata": {},
   "outputs": [
    {
     "data": {
      "text/html": [
       "<div>\n",
       "<style scoped>\n",
       "    .dataframe tbody tr th:only-of-type {\n",
       "        vertical-align: middle;\n",
       "    }\n",
       "\n",
       "    .dataframe tbody tr th {\n",
       "        vertical-align: top;\n",
       "    }\n",
       "\n",
       "    .dataframe thead th {\n",
       "        text-align: right;\n",
       "    }\n",
       "</style>\n",
       "<table border=\"1\" class=\"dataframe\">\n",
       "  <thead>\n",
       "    <tr style=\"text-align: right;\">\n",
       "      <th></th>\n",
       "      <th>text</th>\n",
       "      <th>address</th>\n",
       "    </tr>\n",
       "    <tr>\n",
       "      <th>id</th>\n",
       "      <th></th>\n",
       "      <th></th>\n",
       "    </tr>\n",
       "  </thead>\n",
       "  <tbody>\n",
       "    <tr>\n",
       "      <th>1051595380369096704</th>\n",
       "      <td>Cleared: Traffic congestion in Bay on US-231 s...</td>\n",
       "      <td>US-231 south    Bay  FL</td>\n",
       "    </tr>\n",
       "    <tr>\n",
       "      <th>1051575221671682054</th>\n",
       "      <td>Cleared: Object on roadway in Okaloosa on I-10...</td>\n",
       "      <td>Interstate 10 west Mile Marker 51 Okaloosa  FL</td>\n",
       "    </tr>\n",
       "    <tr>\n",
       "      <th>1051574997964255232</th>\n",
       "      <td>New: Object on roadway in Okaloosa on I-10 wes...</td>\n",
       "      <td>Interstate 10 west Mile Marker 51 Okaloosa  FL</td>\n",
       "    </tr>\n",
       "    <tr>\n",
       "      <th>1051564919219515399</th>\n",
       "      <td>Updated: Traffic congestion in Bay on US-231 s...</td>\n",
       "      <td>US-231 south    Bay  FL</td>\n",
       "    </tr>\n",
       "    <tr>\n",
       "      <th>1051564637832007680</th>\n",
       "      <td>Updated: Traffic congestion in Bay on US-231 s...</td>\n",
       "      <td>US-231 south    Bay  FL</td>\n",
       "    </tr>\n",
       "  </tbody>\n",
       "</table>\n",
       "</div>"
      ],
      "text/plain": [
       "                                                                  text  \\\n",
       "id                                                                       \n",
       "1051595380369096704  Cleared: Traffic congestion in Bay on US-231 s...   \n",
       "1051575221671682054  Cleared: Object on roadway in Okaloosa on I-10...   \n",
       "1051574997964255232  New: Object on roadway in Okaloosa on I-10 wes...   \n",
       "1051564919219515399  Updated: Traffic congestion in Bay on US-231 s...   \n",
       "1051564637832007680  Updated: Traffic congestion in Bay on US-231 s...   \n",
       "\n",
       "                                                              address  \n",
       "id                                                                     \n",
       "1051595380369096704                           US-231 south    Bay  FL  \n",
       "1051575221671682054    Interstate 10 west Mile Marker 51 Okaloosa  FL  \n",
       "1051574997964255232    Interstate 10 west Mile Marker 51 Okaloosa  FL  \n",
       "1051564919219515399                           US-231 south    Bay  FL  \n",
       "1051564637832007680                           US-231 south    Bay  FL  "
      ]
     },
     "execution_count": 19,
     "metadata": {},
     "output_type": "execute_result"
    }
   ],
   "source": [
    "# Get a cleaned address data frame:\n",
    "fl511 = closures.loc[closures['username']=='fl511_panhandl']\n",
    "address = fl511.drop(fl511.loc[fl511['address']=='      FL'].index)[['text', 'address']]\n",
    "address.head()"
   ]
  },
  {
   "cell_type": "code",
   "execution_count": 20,
   "metadata": {},
   "outputs": [],
   "source": [
    "# Export data:\n",
    "address.to_csv('../datasets/address.csv', index=False)"
   ]
  },
  {
   "cell_type": "markdown",
   "metadata": {},
   "source": [
    "## Source  \n",
    "\n",
    "- [Named Entity Recognition for spaCy](https://spacy.io/api/annotation#named-entities)  \n",
    "- [Road Closures Evacuation Routes](https://github.com/fmanon/Road_Closures_Evacuation_Routes)  \n",
    "- [spaCy NER Annotator](https://github.com/ManivannanMurugavel/spacy-ner-annotator)  \n",
    "- [Training Basics for spaCy](https://spacy.io/usage/training)  "
   ]
  }
 ],
 "metadata": {
  "kernelspec": {
   "display_name": "Python 3",
   "language": "python",
   "name": "python3"
  },
  "language_info": {
   "codemirror_mode": {
    "name": "ipython",
    "version": 3
   },
   "file_extension": ".py",
   "mimetype": "text/x-python",
   "name": "python",
   "nbconvert_exporter": "python",
   "pygments_lexer": "ipython3",
   "version": "3.7.3"
  }
 },
 "nbformat": 4,
 "nbformat_minor": 2
}
