{
 "cells": [
  {
   "cell_type": "markdown",
   "metadata": {},
   "source": [
    "# 05. Mapping"
   ]
  },
  {
   "cell_type": "markdown",
   "metadata": {},
   "source": [
    "In this section we will take the points retrived from the SpaCy processing of the text of the tweets, and map them on interactive map. In this process we used the a GeoPandas DataFrame to house our Shapely point coordinations and then used folium to map the locations found in the tweets. "
   ]
  },
  {
   "cell_type": "markdown",
   "metadata": {},
   "source": [
    "[Install and Import Packages](#Install-and-Import-Packages)  \n",
    "[Randomly Generated Map](#Randomly-Generated-Map)  \n",
    "[Plotting Tweets](#Plotting-Tweets)"
   ]
  },
  {
   "cell_type": "markdown",
   "metadata": {},
   "source": [
    "### Install and Import Packages "
   ]
  },
  {
   "cell_type": "code",
   "execution_count": null,
   "metadata": {},
   "outputs": [],
   "source": [
    "# You'll need to install these packages if they aren't already installed. \n",
    "# !pip install folium\n",
    "# !pip install geopandas\n",
    "# !pip install shapely"
   ]
  },
  {
   "cell_type": "code",
   "execution_count": 29,
   "metadata": {},
   "outputs": [],
   "source": [
    "## Imports\n",
    "import pandas as pd\n",
    "import numpy as np\n",
    "import matplotlib.pyplot as plt\n",
    "from random import uniform\n",
    "\n",
    "## Mapping Libraries\n",
    "from shapely.geometry import Point\n",
    "import geopandas as gpd\n",
    "from folium.plugins import MarkerCluster,FeatureGroupSubGroup,Fullscreen\n",
    "from ipyleaflet import basemaps, basemap_to_tiles, Marker, Map, Popup\n",
    "from folium.map import Layer,FeatureGroup\n",
    "import folium\n"
   ]
  },
  {
   "cell_type": "markdown",
   "metadata": {},
   "source": [
    "### Randomly Generated Map"
   ]
  },
  {
   "cell_type": "markdown",
   "metadata": {},
   "source": [
    "In the process of the project we wanted to make sure we had a map working while we were still training the SpaCy model. Below is a map created with randomly generated points to simulate the map functionality. "
   ]
  },
  {
   "cell_type": "code",
   "execution_count": 10,
   "metadata": {},
   "outputs": [],
   "source": [
    "#this code came from the help of Grace and Dimitri and also: \n",
    "#https://gis.stackexchange.com/questions/59339/generate-random-world-point-geometries\n",
    "def newpoint():\n",
    "    return  uniform(30.156408, 30.322211), uniform(-85.604793 , -85.995599)   # lat/long  close to the FL panhandle\n",
    "#specifies how many 'new points' we want, default is 10, we'll create 30 points \n",
    "points = (newpoint() for x in range(30))\n",
    "#prints all the generated coordinates\n",
    "for point in points:\n",
    "    df = pd.DataFrame(list(points), columns = ['latitude', 'longitude']) \n",
    "    pointlist = df.values.tolist()\n",
    "    len(pointlist)\n",
    "    "
   ]
  },
  {
   "cell_type": "code",
   "execution_count": 11,
   "metadata": {},
   "outputs": [
    {
     "data": {
      "text/plain": [
       "[[30.275536933075546, -85.86359948606226],\n",
       " [30.21857853841694, -85.63075193549783],\n",
       " [30.213342170736723, -85.7693942467926],\n",
       " [30.279900995795973, -85.6357714878092],\n",
       " [30.161489722102388, -85.82365047298886]]"
      ]
     },
     "execution_count": 11,
     "metadata": {},
     "output_type": "execute_result"
    }
   ],
   "source": [
    "#checking out the points \n",
    "pointlist[:5]"
   ]
  },
  {
   "cell_type": "markdown",
   "metadata": {},
   "source": [
    "From here we'll create the Geopandas DataFrame with coordinates from the map of Florida. "
   ]
  },
  {
   "cell_type": "code",
   "execution_count": 12,
   "metadata": {},
   "outputs": [
    {
     "name": "stderr",
     "output_type": "stream",
     "text": [
      "/opt/anaconda3/envs/dsi/lib/python3.7/site-packages/pyproj/crs.py:77: FutureWarning: '+init=<authority>:<code>' syntax is deprecated. '<authority>:<code>' is the preferred initialization method.\n",
      "  return _prepare_from_string(\" \".join(pjargs))\n"
     ]
    },
    {
     "data": {
      "text/html": [
       "<div>\n",
       "<style scoped>\n",
       "    .dataframe tbody tr th:only-of-type {\n",
       "        vertical-align: middle;\n",
       "    }\n",
       "\n",
       "    .dataframe tbody tr th {\n",
       "        vertical-align: top;\n",
       "    }\n",
       "\n",
       "    .dataframe thead th {\n",
       "        text-align: right;\n",
       "    }\n",
       "</style>\n",
       "<table border=\"1\" class=\"dataframe\">\n",
       "  <thead>\n",
       "    <tr style=\"text-align: right;\">\n",
       "      <th></th>\n",
       "      <th>latitude</th>\n",
       "      <th>longitude</th>\n",
       "      <th>geometry</th>\n",
       "    </tr>\n",
       "  </thead>\n",
       "  <tbody>\n",
       "    <tr>\n",
       "      <th>0</th>\n",
       "      <td>30.275537</td>\n",
       "      <td>-85.863599</td>\n",
       "      <td>POINT (30.27554 -85.86360)</td>\n",
       "    </tr>\n",
       "    <tr>\n",
       "      <th>1</th>\n",
       "      <td>30.218579</td>\n",
       "      <td>-85.630752</td>\n",
       "      <td>POINT (30.21858 -85.63075)</td>\n",
       "    </tr>\n",
       "    <tr>\n",
       "      <th>2</th>\n",
       "      <td>30.213342</td>\n",
       "      <td>-85.769394</td>\n",
       "      <td>POINT (30.21334 -85.76939)</td>\n",
       "    </tr>\n",
       "    <tr>\n",
       "      <th>3</th>\n",
       "      <td>30.279901</td>\n",
       "      <td>-85.635771</td>\n",
       "      <td>POINT (30.27990 -85.63577)</td>\n",
       "    </tr>\n",
       "    <tr>\n",
       "      <th>4</th>\n",
       "      <td>30.161490</td>\n",
       "      <td>-85.823650</td>\n",
       "      <td>POINT (30.16149 -85.82365)</td>\n",
       "    </tr>\n",
       "  </tbody>\n",
       "</table>\n",
       "</div>"
      ],
      "text/plain": [
       "    latitude  longitude                    geometry\n",
       "0  30.275537 -85.863599  POINT (30.27554 -85.86360)\n",
       "1  30.218579 -85.630752  POINT (30.21858 -85.63075)\n",
       "2  30.213342 -85.769394  POINT (30.21334 -85.76939)\n",
       "3  30.279901 -85.635771  POINT (30.27990 -85.63577)\n",
       "4  30.161490 -85.823650  POINT (30.16149 -85.82365)"
      ]
     },
     "execution_count": 12,
     "metadata": {},
     "output_type": "execute_result"
    }
   ],
   "source": [
    "#This code is adapted from Noah's local lecture on geopandas \n",
    "# Convert our dataframe into a GeoPandas dataframe by using longitude and latitude to create point geometries\n",
    "# Create point geometries column\n",
    "geom = [Point(xy) for xy in zip(df['latitude'], df['longitude'])]\n",
    "\n",
    "# Set the coordinate reference system we'll be using. EPSG:3086 is the CRS for Florida \n",
    "crs = {'init':'epsg:3086'}\n",
    "lat_long_gpd = gpd.GeoDataFrame(df, crs = crs, geometry = geom)\n",
    "\n",
    "## Make sure our coordinated are in the correct coordinate reference system\n",
    "lat_long_gpd = lat_long_gpd.to_crs({'init':'epsg:3086'})\n",
    "lat_long_gpd.head()"
   ]
  },
  {
   "cell_type": "code",
   "execution_count": 13,
   "metadata": {},
   "outputs": [
    {
     "data": {
      "text/plain": [
       "(29, 3)"
      ]
     },
     "execution_count": 13,
     "metadata": {},
     "output_type": "execute_result"
    }
   ],
   "source": [
    "#Checking out the shape of the new DF to confirm proper rows \n",
    "lat_long_gpd.shape"
   ]
  },
  {
   "cell_type": "code",
   "execution_count": 108,
   "metadata": {},
   "outputs": [
    {
     "data": {
      "text/plain": [
       "<matplotlib.axes._subplots.AxesSubplot at 0x125f177d0>"
      ]
     },
     "execution_count": 108,
     "metadata": {},
     "output_type": "execute_result"
    },
    {
     "data": {
      "image/png": "[encoded data removed]",
      "text/plain": [
       "<Figure size 864x864 with 1 Axes>"
      ]
     },
     "metadata": {
      "needs_background": "light"
     },
     "output_type": "display_data"
    }
   ],
   "source": [
    "#Plotting that data \n",
    "lat_long_gpd.plot(figsize = (12,12))"
   ]
  },
  {
   "cell_type": "markdown",
   "metadata": {},
   "source": [
    "Finally we'll create the map with Folium, adding points for each of our randomly genereated points. "
   ]
  },
  {
   "cell_type": "code",
   "execution_count": 109,
   "metadata": {},
   "outputs": [],
   "source": [
    "# Plotting that with folium\n",
    "tweet_map = folium.Map(location = [30.1766, - 85.8055], ## initial map focus, on Panama City Florida\n",
    "                          zoom_start = 7, ## zoom level\n",
    "                          control_scale=True, \n",
    "                          prefer_canvas = True)\n",
    "\n",
    "#For loop to add points to map\n",
    "for point in range(0, len(pointlist)):  #for point in the list \n",
    "    folium.Marker(pointlist[point], popup= pointlist[point]).add_to(tweet_map)\n",
    "    #create point, popup is the coordinates, adding to map \n",
    "\n",
    "tweet_map.save('../maps/rand_tweet_map.html') #saving the map \n",
    "#Thanks again to Noah for his folium lecture!  "
   ]
  },
  {
   "cell_type": "markdown",
   "metadata": {},
   "source": [
    "### Plotting Tweets "
   ]
  },
  {
   "cell_type": "markdown",
   "metadata": {},
   "source": [
    "Once we were able to process the data through our  SpaCy classifer and then HERE geocoder API, we were able to extract locations from our historical tweets.  We'll read that data in and process it for mapping. "
   ]
  },
  {
   "cell_type": "code",
   "execution_count": 20,
   "metadata": {},
   "outputs": [],
   "source": [
    "#reading in the data \n",
    "live = pd.read_csv('../datasets/text_coor_date.csv')"
   ]
  },
  {
   "cell_type": "code",
   "execution_count": 21,
   "metadata": {},
   "outputs": [
    {
     "data": {
      "text/html": [
       "<div>\n",
       "<style scoped>\n",
       "    .dataframe tbody tr th:only-of-type {\n",
       "        vertical-align: middle;\n",
       "    }\n",
       "\n",
       "    .dataframe tbody tr th {\n",
       "        vertical-align: top;\n",
       "    }\n",
       "\n",
       "    .dataframe thead th {\n",
       "        text-align: right;\n",
       "    }\n",
       "</style>\n",
       "<table border=\"1\" class=\"dataframe\">\n",
       "  <thead>\n",
       "    <tr style=\"text-align: right;\">\n",
       "      <th></th>\n",
       "      <th>text</th>\n",
       "      <th>address</th>\n",
       "      <th>latitude</th>\n",
       "      <th>longitude</th>\n",
       "      <th>date</th>\n",
       "    </tr>\n",
       "  </thead>\n",
       "  <tbody>\n",
       "    <tr>\n",
       "      <th>0</th>\n",
       "      <td>Cleared: Traffic congestion in Bay on US-231 s...</td>\n",
       "      <td>US-231 south  State Route 20  Bay  FL</td>\n",
       "      <td>28.82179</td>\n",
       "      <td>-95.946362</td>\n",
       "      <td>2018-10-14 22:07:31+00:00</td>\n",
       "    </tr>\n",
       "    <tr>\n",
       "      <th>1</th>\n",
       "      <td>Cleared: Object on roadway in Okaloosa on I-10...</td>\n",
       "      <td>Interstate 10 west Mile Marker 51 Okaloosa  FL</td>\n",
       "      <td>30.41195</td>\n",
       "      <td>-86.729630</td>\n",
       "      <td>2018-10-14 20:47:24+00:00</td>\n",
       "    </tr>\n",
       "    <tr>\n",
       "      <th>2</th>\n",
       "      <td>New: Object on roadway in Okaloosa on I-10 wes...</td>\n",
       "      <td>Interstate 10 west Mile Marker 51 Okaloosa  FL</td>\n",
       "      <td>30.41195</td>\n",
       "      <td>-86.729630</td>\n",
       "      <td>2018-10-14 20:46:31+00:00</td>\n",
       "    </tr>\n",
       "    <tr>\n",
       "      <th>3</th>\n",
       "      <td>Updated: Traffic congestion in Bay on US-231 s...</td>\n",
       "      <td>US-231 south  State Route 20  Bay  FL</td>\n",
       "      <td>28.82179</td>\n",
       "      <td>-95.946362</td>\n",
       "      <td>2018-10-14 20:06:28+00:00</td>\n",
       "    </tr>\n",
       "    <tr>\n",
       "      <th>4</th>\n",
       "      <td>Updated: Traffic congestion in Bay on US-231 s...</td>\n",
       "      <td>US-231 south  State Route 20  Bay  FL</td>\n",
       "      <td>28.82179</td>\n",
       "      <td>-95.946362</td>\n",
       "      <td>2018-10-14 20:05:21+00:00</td>\n",
       "    </tr>\n",
       "  </tbody>\n",
       "</table>\n",
       "</div>"
      ],
      "text/plain": [
       "                                                text  \\\n",
       "0  Cleared: Traffic congestion in Bay on US-231 s...   \n",
       "1  Cleared: Object on roadway in Okaloosa on I-10...   \n",
       "2  New: Object on roadway in Okaloosa on I-10 wes...   \n",
       "3  Updated: Traffic congestion in Bay on US-231 s...   \n",
       "4  Updated: Traffic congestion in Bay on US-231 s...   \n",
       "\n",
       "                                            address  latitude  longitude  \\\n",
       "0             US-231 south  State Route 20  Bay  FL  28.82179 -95.946362   \n",
       "1    Interstate 10 west Mile Marker 51 Okaloosa  FL  30.41195 -86.729630   \n",
       "2    Interstate 10 west Mile Marker 51 Okaloosa  FL  30.41195 -86.729630   \n",
       "3             US-231 south  State Route 20  Bay  FL  28.82179 -95.946362   \n",
       "4             US-231 south  State Route 20  Bay  FL  28.82179 -95.946362   \n",
       "\n",
       "                        date  \n",
       "0  2018-10-14 22:07:31+00:00  \n",
       "1  2018-10-14 20:47:24+00:00  \n",
       "2  2018-10-14 20:46:31+00:00  \n",
       "3  2018-10-14 20:06:28+00:00  \n",
       "4  2018-10-14 20:05:21+00:00  "
      ]
     },
     "execution_count": 21,
     "metadata": {},
     "output_type": "execute_result"
    }
   ],
   "source": [
    "#checking out the head \n",
    "live.head()"
   ]
  },
  {
   "cell_type": "code",
   "execution_count": 22,
   "metadata": {},
   "outputs": [
    {
     "data": {
      "text/plain": [
       "text          object\n",
       "address       object\n",
       "latitude     float64\n",
       "longitude    float64\n",
       "date          object\n",
       "dtype: object"
      ]
     },
     "execution_count": 22,
     "metadata": {},
     "output_type": "execute_result"
    }
   ],
   "source": [
    "#confirming data types \n",
    "live.dtypes"
   ]
  },
  {
   "cell_type": "code",
   "execution_count": 23,
   "metadata": {},
   "outputs": [],
   "source": [
    "#creating a column that has the text of tweet as well as the date it was posted, for the map popups\n",
    "live['text_date'] = live['date'] + live['text']"
   ]
  },
  {
   "cell_type": "code",
   "execution_count": 24,
   "metadata": {},
   "outputs": [
    {
     "data": {
      "text/html": [
       "<div>\n",
       "<style scoped>\n",
       "    .dataframe tbody tr th:only-of-type {\n",
       "        vertical-align: middle;\n",
       "    }\n",
       "\n",
       "    .dataframe tbody tr th {\n",
       "        vertical-align: top;\n",
       "    }\n",
       "\n",
       "    .dataframe thead th {\n",
       "        text-align: right;\n",
       "    }\n",
       "</style>\n",
       "<table border=\"1\" class=\"dataframe\">\n",
       "  <thead>\n",
       "    <tr style=\"text-align: right;\">\n",
       "      <th></th>\n",
       "      <th>text</th>\n",
       "      <th>address</th>\n",
       "      <th>latitude</th>\n",
       "      <th>longitude</th>\n",
       "      <th>date</th>\n",
       "      <th>text_date</th>\n",
       "    </tr>\n",
       "  </thead>\n",
       "  <tbody>\n",
       "    <tr>\n",
       "      <th>0</th>\n",
       "      <td>Cleared: Traffic congestion in Bay on US-231 s...</td>\n",
       "      <td>US-231 south  State Route 20  Bay  FL</td>\n",
       "      <td>28.82179</td>\n",
       "      <td>-95.946362</td>\n",
       "      <td>2018-10-14 22:07:31+00:00</td>\n",
       "      <td>2018-10-14 22:07:31+00:00Cleared: Traffic cong...</td>\n",
       "    </tr>\n",
       "    <tr>\n",
       "      <th>1</th>\n",
       "      <td>Cleared: Object on roadway in Okaloosa on I-10...</td>\n",
       "      <td>Interstate 10 west Mile Marker 51 Okaloosa  FL</td>\n",
       "      <td>30.41195</td>\n",
       "      <td>-86.729630</td>\n",
       "      <td>2018-10-14 20:47:24+00:00</td>\n",
       "      <td>2018-10-14 20:47:24+00:00Cleared: Object on ro...</td>\n",
       "    </tr>\n",
       "  </tbody>\n",
       "</table>\n",
       "</div>"
      ],
      "text/plain": [
       "                                                text  \\\n",
       "0  Cleared: Traffic congestion in Bay on US-231 s...   \n",
       "1  Cleared: Object on roadway in Okaloosa on I-10...   \n",
       "\n",
       "                                            address  latitude  longitude  \\\n",
       "0             US-231 south  State Route 20  Bay  FL  28.82179 -95.946362   \n",
       "1    Interstate 10 west Mile Marker 51 Okaloosa  FL  30.41195 -86.729630   \n",
       "\n",
       "                        date  \\\n",
       "0  2018-10-14 22:07:31+00:00   \n",
       "1  2018-10-14 20:47:24+00:00   \n",
       "\n",
       "                                           text_date  \n",
       "0  2018-10-14 22:07:31+00:00Cleared: Traffic cong...  \n",
       "1  2018-10-14 20:47:24+00:00Cleared: Object on ro...  "
      ]
     },
     "execution_count": 24,
     "metadata": {},
     "output_type": "execute_result"
    }
   ],
   "source": [
    "#confirming changes \n",
    "live.head(2)"
   ]
  },
  {
   "cell_type": "code",
   "execution_count": 25,
   "metadata": {},
   "outputs": [
    {
     "data": {
      "text/plain": [
       "222"
      ]
     },
     "execution_count": 25,
     "metadata": {},
     "output_type": "execute_result"
    }
   ],
   "source": [
    "#creating variable of the latitude and longitude \n",
    "locations = live[['latitude', 'longitude']]\n",
    "#making the series into a list \n",
    "locationlist = locations.values.tolist()\n",
    "#confirming length of list \n",
    "len(locationlist)"
   ]
  },
  {
   "cell_type": "markdown",
   "metadata": {},
   "source": [
    "Creating the GeoPandas DataFrame with points generated from our historical twitter data. "
   ]
  },
  {
   "cell_type": "code",
   "execution_count": 27,
   "metadata": {},
   "outputs": [
    {
     "name": "stderr",
     "output_type": "stream",
     "text": [
      "/opt/anaconda3/envs/dsi/lib/python3.7/site-packages/pyproj/crs.py:77: FutureWarning: '+init=<authority>:<code>' syntax is deprecated. '<authority>:<code>' is the preferred initialization method.\n",
      "  return _prepare_from_string(\" \".join(pjargs))\n"
     ]
    },
    {
     "data": {
      "text/html": [
       "<div>\n",
       "<style scoped>\n",
       "    .dataframe tbody tr th:only-of-type {\n",
       "        vertical-align: middle;\n",
       "    }\n",
       "\n",
       "    .dataframe tbody tr th {\n",
       "        vertical-align: top;\n",
       "    }\n",
       "\n",
       "    .dataframe thead th {\n",
       "        text-align: right;\n",
       "    }\n",
       "</style>\n",
       "<table border=\"1\" class=\"dataframe\">\n",
       "  <thead>\n",
       "    <tr style=\"text-align: right;\">\n",
       "      <th></th>\n",
       "      <th>text</th>\n",
       "      <th>address</th>\n",
       "      <th>latitude</th>\n",
       "      <th>longitude</th>\n",
       "      <th>date</th>\n",
       "      <th>text_date</th>\n",
       "      <th>geometry</th>\n",
       "    </tr>\n",
       "  </thead>\n",
       "  <tbody>\n",
       "    <tr>\n",
       "      <th>0</th>\n",
       "      <td>Cleared: Traffic congestion in Bay on US-231 s...</td>\n",
       "      <td>US-231 south  State Route 20  Bay  FL</td>\n",
       "      <td>28.82179</td>\n",
       "      <td>-95.946362</td>\n",
       "      <td>2018-10-14 22:07:31+00:00</td>\n",
       "      <td>2018-10-14 22:07:31+00:00Cleared: Traffic cong...</td>\n",
       "      <td>POINT (28.822 -95.946)</td>\n",
       "    </tr>\n",
       "    <tr>\n",
       "      <th>1</th>\n",
       "      <td>Cleared: Object on roadway in Okaloosa on I-10...</td>\n",
       "      <td>Interstate 10 west Mile Marker 51 Okaloosa  FL</td>\n",
       "      <td>30.41195</td>\n",
       "      <td>-86.729630</td>\n",
       "      <td>2018-10-14 20:47:24+00:00</td>\n",
       "      <td>2018-10-14 20:47:24+00:00Cleared: Object on ro...</td>\n",
       "      <td>POINT (30.412 -86.730)</td>\n",
       "    </tr>\n",
       "    <tr>\n",
       "      <th>2</th>\n",
       "      <td>New: Object on roadway in Okaloosa on I-10 wes...</td>\n",
       "      <td>Interstate 10 west Mile Marker 51 Okaloosa  FL</td>\n",
       "      <td>30.41195</td>\n",
       "      <td>-86.729630</td>\n",
       "      <td>2018-10-14 20:46:31+00:00</td>\n",
       "      <td>2018-10-14 20:46:31+00:00New: Object on roadwa...</td>\n",
       "      <td>POINT (30.412 -86.730)</td>\n",
       "    </tr>\n",
       "    <tr>\n",
       "      <th>3</th>\n",
       "      <td>Updated: Traffic congestion in Bay on US-231 s...</td>\n",
       "      <td>US-231 south  State Route 20  Bay  FL</td>\n",
       "      <td>28.82179</td>\n",
       "      <td>-95.946362</td>\n",
       "      <td>2018-10-14 20:06:28+00:00</td>\n",
       "      <td>2018-10-14 20:06:28+00:00Updated: Traffic cong...</td>\n",
       "      <td>POINT (28.822 -95.946)</td>\n",
       "    </tr>\n",
       "    <tr>\n",
       "      <th>4</th>\n",
       "      <td>Updated: Traffic congestion in Bay on US-231 s...</td>\n",
       "      <td>US-231 south  State Route 20  Bay  FL</td>\n",
       "      <td>28.82179</td>\n",
       "      <td>-95.946362</td>\n",
       "      <td>2018-10-14 20:05:21+00:00</td>\n",
       "      <td>2018-10-14 20:05:21+00:00Updated: Traffic cong...</td>\n",
       "      <td>POINT (28.822 -95.946)</td>\n",
       "    </tr>\n",
       "  </tbody>\n",
       "</table>\n",
       "</div>"
      ],
      "text/plain": [
       "                                                text  \\\n",
       "0  Cleared: Traffic congestion in Bay on US-231 s...   \n",
       "1  Cleared: Object on roadway in Okaloosa on I-10...   \n",
       "2  New: Object on roadway in Okaloosa on I-10 wes...   \n",
       "3  Updated: Traffic congestion in Bay on US-231 s...   \n",
       "4  Updated: Traffic congestion in Bay on US-231 s...   \n",
       "\n",
       "                                            address  latitude  longitude  \\\n",
       "0             US-231 south  State Route 20  Bay  FL  28.82179 -95.946362   \n",
       "1    Interstate 10 west Mile Marker 51 Okaloosa  FL  30.41195 -86.729630   \n",
       "2    Interstate 10 west Mile Marker 51 Okaloosa  FL  30.41195 -86.729630   \n",
       "3             US-231 south  State Route 20  Bay  FL  28.82179 -95.946362   \n",
       "4             US-231 south  State Route 20  Bay  FL  28.82179 -95.946362   \n",
       "\n",
       "                        date  \\\n",
       "0  2018-10-14 22:07:31+00:00   \n",
       "1  2018-10-14 20:47:24+00:00   \n",
       "2  2018-10-14 20:46:31+00:00   \n",
       "3  2018-10-14 20:06:28+00:00   \n",
       "4  2018-10-14 20:05:21+00:00   \n",
       "\n",
       "                                           text_date                geometry  \n",
       "0  2018-10-14 22:07:31+00:00Cleared: Traffic cong...  POINT (28.822 -95.946)  \n",
       "1  2018-10-14 20:47:24+00:00Cleared: Object on ro...  POINT (30.412 -86.730)  \n",
       "2  2018-10-14 20:46:31+00:00New: Object on roadwa...  POINT (30.412 -86.730)  \n",
       "3  2018-10-14 20:06:28+00:00Updated: Traffic cong...  POINT (28.822 -95.946)  \n",
       "4  2018-10-14 20:05:21+00:00Updated: Traffic cong...  POINT (28.822 -95.946)  "
      ]
     },
     "execution_count": 27,
     "metadata": {},
     "output_type": "execute_result"
    }
   ],
   "source": [
    "#This code is adapted from Noah's local lecture on geopandas \n",
    "# Convert our dataframe into a GeoPandas dataframe by using longitude and latitude to create point geometries\n",
    "# Create point geometries column\n",
    "geom = [Point(xy) for xy in zip(live['latitude'], live['longitude'])]\n",
    "\n",
    "# Set the coordinate reference system we'll be using. EPSG:3086 is the CRS for Florida \n",
    "crs = {'init':'epsg:3086'}\n",
    "tweets_gpd = gpd.GeoDataFrame(live, crs = crs, geometry = geom)\n",
    "\n",
    "# Make sure our coordinated are in the correct coordinate reference system\n",
    "tweets_gpd = tweets_gpd.to_crs({'init':'epsg:3086'})\n",
    "tweets_gpd.head()"
   ]
  },
  {
   "cell_type": "markdown",
   "metadata": {},
   "source": [
    "Lastly, ploting those point on the map of Florida with a pop-up that contains the date and text of the tweets. "
   ]
  },
  {
   "cell_type": "code",
   "execution_count": 28,
   "metadata": {},
   "outputs": [],
   "source": [
    "# Creating map with folium \n",
    "r_tweet_map = folium.Map(location = [30.1766, - 85.8055], ## initial map focus\n",
    "                          zoom_start = 9, ## zoom level\n",
    "                          control_scale=True, \n",
    "                          prefer_canvas = True)\n",
    "\n",
    "#For loop to add points to map\n",
    "for point in range(0, len(locationlist)): #for point in list \n",
    "    folium.Marker(locationlist[point] , popup= tweets_gpd['text_date'][point]).add_to(r_tweet_map)\n",
    "     #create point, popup is the date/text of tweets, and added to map \n",
    "#saving map \n",
    "r_tweet_map.save('../maps/historic_tweet_map.html')\n",
    "#Thanks again to Noah for his folium lecture! "
   ]
  }
 ],
 "metadata": {
  "kernelspec": {
   "display_name": "Python 3",
   "language": "python",
   "name": "python3"
  },
  "language_info": {
   "codemirror_mode": {
    "name": "ipython",
    "version": 3
   },
   "file_extension": ".py",
   "mimetype": "text/x-python",
   "name": "python",
   "nbconvert_exporter": "python",
   "pygments_lexer": "ipython3",
   "version": "3.7.4"
  }
 },
 "nbformat": 4,
 "nbformat_minor": 2
}
